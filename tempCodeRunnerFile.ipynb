import joblib

joblib.dump(LR, 'LR_model.pkl')
joblib.dump(DT, 'DT_model.pkl')
joblib.dump(GB, 'GB_model.pkl')
joblib.dump(RF, 'RF_model.pkl')
joblib.dump(vectorization, 'vectorizer.pkl')